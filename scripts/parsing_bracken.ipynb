{
 "cells": [
  {
   "cell_type": "code",
   "execution_count": 37,
   "id": "2dbfa52a-ef81-40a7-8b05-44944f869f69",
   "metadata": {},
   "outputs": [],
   "source": [
    "library(DBI)\n",
    "library(ggplot2)\n",
    "library(ggpubr)\n",
    "library(plyr)\n",
    "library(tidyr)\n",
    "mydb = dbConnect(RSQLite::SQLite(),\"/shared/projects/form_2022_19/pascal/central_database/sample_collab.db\")"
   ]
  },
  {
   "cell_type": "code",
   "execution_count": 47,
   "id": "c656085d-522c-40d2-bcb6-1b1e61aceccf",
   "metadata": {},
   "outputs": [
    {
     "data": {
      "text/html": [
       "<table class=\"dataframe\">\n",
       "<caption>A data.frame: 1 × 1</caption>\n",
       "<thead>\n",
       "\t<tr><th scope=col>count(distinct(run_accession))</th></tr>\n",
       "\t<tr><th scope=col>&lt;int&gt;</th></tr>\n",
       "</thead>\n",
       "<tbody>\n",
       "\t<tr><td>147</td></tr>\n",
       "</tbody>\n",
       "</table>\n"
      ],
      "text/latex": [
       "A data.frame: 1 × 1\n",
       "\\begin{tabular}{l}\n",
       " count(distinct(run\\_accession))\\\\\n",
       " <int>\\\\\n",
       "\\hline\n",
       "\t 147\\\\\n",
       "\\end{tabular}\n"
      ],
      "text/markdown": [
       "\n",
       "A data.frame: 1 × 1\n",
       "\n",
       "| count(distinct(run_accession)) &lt;int&gt; |\n",
       "|---|\n",
       "| 147 |\n",
       "\n"
      ],
      "text/plain": [
       "  count(distinct(run_accession))\n",
       "1 147                           "
      ]
     },
     "metadata": {},
     "output_type": "display_data"
    },
    {
     "data": {
      "text/html": [
       "<table class=\"dataframe\">\n",
       "<caption>A data.frame: 5 × 8</caption>\n",
       "<thead>\n",
       "\t<tr><th scope=col>run_accession</th><th scope=col>taxon_name</th><th scope=col>taxonomy_id</th><th scope=col>taxonomy_lvl</th><th scope=col>kraken_assigned_reads</th><th scope=col>added_reads</th><th scope=col>new_est_reads</th><th scope=col>fraction_total_reads</th></tr>\n",
       "\t<tr><th scope=col>&lt;chr&gt;</th><th scope=col>&lt;chr&gt;</th><th scope=col>&lt;int&gt;</th><th scope=col>&lt;chr&gt;</th><th scope=col>&lt;int&gt;</th><th scope=col>&lt;int&gt;</th><th scope=col>&lt;int&gt;</th><th scope=col>&lt;dbl&gt;</th></tr>\n",
       "</thead>\n",
       "<tbody>\n",
       "\t<tr><td>ERR6913139</td><td>Streptococcus sp. oral taxon 431</td><td> 712633</td><td>S</td><td>14058</td><td>685</td><td>14743</td><td>0.02138</td></tr>\n",
       "\t<tr><td>ERR6913139</td><td>Streptococcus sp. oral taxon 061</td><td> 712623</td><td>S</td><td>10466</td><td>477</td><td>10943</td><td>0.01587</td></tr>\n",
       "\t<tr><td>ERR6913139</td><td>Streptococcus sp. A12           </td><td>1759399</td><td>S</td><td> 5521</td><td>660</td><td> 6181</td><td>0.00896</td></tr>\n",
       "\t<tr><td>ERR6913139</td><td>Streptococcus sp. 116-D4        </td><td>2598453</td><td>S</td><td> 2068</td><td>195</td><td> 2263</td><td>0.00328</td></tr>\n",
       "\t<tr><td>ERR6913139</td><td>Streptococcus sp. HSISM1        </td><td>1316408</td><td>S</td><td> 1732</td><td>334</td><td> 2066</td><td>0.00300</td></tr>\n",
       "</tbody>\n",
       "</table>\n"
      ],
      "text/latex": [
       "A data.frame: 5 × 8\n",
       "\\begin{tabular}{llllllll}\n",
       " run\\_accession & taxon\\_name & taxonomy\\_id & taxonomy\\_lvl & kraken\\_assigned\\_reads & added\\_reads & new\\_est\\_reads & fraction\\_total\\_reads\\\\\n",
       " <chr> & <chr> & <int> & <chr> & <int> & <int> & <int> & <dbl>\\\\\n",
       "\\hline\n",
       "\t ERR6913139 & Streptococcus sp. oral taxon 431 &  712633 & S & 14058 & 685 & 14743 & 0.02138\\\\\n",
       "\t ERR6913139 & Streptococcus sp. oral taxon 061 &  712623 & S & 10466 & 477 & 10943 & 0.01587\\\\\n",
       "\t ERR6913139 & Streptococcus sp. A12            & 1759399 & S &  5521 & 660 &  6181 & 0.00896\\\\\n",
       "\t ERR6913139 & Streptococcus sp. 116-D4         & 2598453 & S &  2068 & 195 &  2263 & 0.00328\\\\\n",
       "\t ERR6913139 & Streptococcus sp. HSISM1         & 1316408 & S &  1732 & 334 &  2066 & 0.00300\\\\\n",
       "\\end{tabular}\n"
      ],
      "text/markdown": [
       "\n",
       "A data.frame: 5 × 8\n",
       "\n",
       "| run_accession &lt;chr&gt; | taxon_name &lt;chr&gt; | taxonomy_id &lt;int&gt; | taxonomy_lvl &lt;chr&gt; | kraken_assigned_reads &lt;int&gt; | added_reads &lt;int&gt; | new_est_reads &lt;int&gt; | fraction_total_reads &lt;dbl&gt; |\n",
       "|---|---|---|---|---|---|---|---|\n",
       "| ERR6913139 | Streptococcus sp. oral taxon 431 |  712633 | S | 14058 | 685 | 14743 | 0.02138 |\n",
       "| ERR6913139 | Streptococcus sp. oral taxon 061 |  712623 | S | 10466 | 477 | 10943 | 0.01587 |\n",
       "| ERR6913139 | Streptococcus sp. A12            | 1759399 | S |  5521 | 660 |  6181 | 0.00896 |\n",
       "| ERR6913139 | Streptococcus sp. 116-D4         | 2598453 | S |  2068 | 195 |  2263 | 0.00328 |\n",
       "| ERR6913139 | Streptococcus sp. HSISM1         | 1316408 | S |  1732 | 334 |  2066 | 0.00300 |\n",
       "\n"
      ],
      "text/plain": [
       "  run_accession taxon_name                       taxonomy_id taxonomy_lvl\n",
       "1 ERR6913139    Streptococcus sp. oral taxon 431  712633     S           \n",
       "2 ERR6913139    Streptococcus sp. oral taxon 061  712623     S           \n",
       "3 ERR6913139    Streptococcus sp. A12            1759399     S           \n",
       "4 ERR6913139    Streptococcus sp. 116-D4         2598453     S           \n",
       "5 ERR6913139    Streptococcus sp. HSISM1         1316408     S           \n",
       "  kraken_assigned_reads added_reads new_est_reads fraction_total_reads\n",
       "1 14058                 685         14743         0.02138             \n",
       "2 10466                 477         10943         0.01587             \n",
       "3  5521                 660          6181         0.00896             \n",
       "4  2068                 195          2263         0.00328             \n",
       "5  1732                 334          2066         0.00300             "
      ]
     },
     "metadata": {},
     "output_type": "display_data"
    }
   ],
   "source": [
    "dbGetQuery(mydb, 'select count(distinct(run_accession)) from bracken_abundances_long ;')\n",
    "dbGetQuery(mydb, 'select * from bracken_abundances_long  limit 5;')\n",
    " db <- dbGetQuery(mydb, 'select * from bracken_abundances_long   ;')"
   ]
  },
  {
   "cell_type": "code",
   "execution_count": 41,
   "id": "9614f5b6-f1b2-4742-82a1-c16376b3534a",
   "metadata": {},
   "outputs": [
    {
     "ename": "ERROR",
     "evalue": "Error: near \"limit\": syntax error\n",
     "output_type": "error",
     "traceback": [
      "Error: near \"limit\": syntax error\nTraceback:\n",
      "1. dbGetQuery(mydb, \"select * from sample_annot where  limit where taxon_name is\")",
      "2. dbGetQuery(mydb, \"select * from sample_annot where  limit where taxon_name is\")",
      "3. .local(conn, statement, ...)",
      "4. dbSendQuery(conn, statement, ...)",
      "5. dbSendQuery(conn, statement, ...)",
      "6. .local(conn, statement, ...)",
      "7. new(\"SQLiteResult\", sql = statement, ptr = result_create(conn@ptr, \n .     statement), conn = conn, bigint = conn@bigint)",
      "8. initialize(value, ...)",
      "9. initialize(value, ...)",
      "10. result_create(conn@ptr, statement)"
     ]
    }
   ],
   "source": [
    "#dbGetQuery(mydb, 'select * from sample_annot where  limit where taxon_name is')"
   ]
  },
  {
   "cell_type": "code",
   "execution_count": 42,
   "id": "d224b78a-9617-4c32-add5-42000d9e8194",
   "metadata": {},
   "outputs": [
    {
     "ename": "ERROR",
     "evalue": "Error: no such column: taxon\n",
     "output_type": "error",
     "traceback": [
      "Error: no such column: taxon\nTraceback:\n",
      "1. dbGetQuery(mydb, \"select run_accession, taxon from bracken_abundances_long limit 5;\")",
      "2. dbGetQuery(mydb, \"select run_accession, taxon from bracken_abundances_long limit 5;\")",
      "3. .local(conn, statement, ...)",
      "4. dbSendQuery(conn, statement, ...)",
      "5. dbSendQuery(conn, statement, ...)",
      "6. .local(conn, statement, ...)",
      "7. new(\"SQLiteResult\", sql = statement, ptr = result_create(conn@ptr, \n .     statement), conn = conn, bigint = conn@bigint)",
      "8. initialize(value, ...)",
      "9. initialize(value, ...)",
      "10. result_create(conn@ptr, statement)"
     ]
    }
   ],
   "source": [
    "dbGetQuery(mydb, 'select run_accession, taxon from bracken_abundances_long limit 5;')"
   ]
  },
  {
   "cell_type": "code",
   "execution_count": 48,
   "id": "fcea7be3-cbc3-4aea-9e5e-e3723041943b",
   "metadata": {},
   "outputs": [
    {
     "name": "stdout",
     "output_type": "stream",
     "text": [
      "\u001b[90m# A tibble: 6,128 × 148\u001b[39m\n",
      "   taxon_name  ERR6913139 ERR6913141 ERR6913142 ERR6913143 ERR6913235 ERR6913237\n",
      "   \u001b[3m\u001b[90m<chr>\u001b[39m\u001b[23m            \u001b[3m\u001b[90m<dbl>\u001b[39m\u001b[23m      \u001b[3m\u001b[90m<dbl>\u001b[39m\u001b[23m      \u001b[3m\u001b[90m<dbl>\u001b[39m\u001b[23m      \u001b[3m\u001b[90m<dbl>\u001b[39m\u001b[23m      \u001b[3m\u001b[90m<dbl>\u001b[39m\u001b[23m      \u001b[3m\u001b[90m<dbl>\u001b[39m\u001b[23m\n",
      "\u001b[90m 1\u001b[39m Streptococ…    0.021\u001b[4m4\u001b[24m     0.047\u001b[4m0\u001b[24m     0.025\u001b[4m1\u001b[24m     0.049\u001b[4m6\u001b[24m     0.026\u001b[4m7\u001b[24m     0.024\u001b[4m6\u001b[24m \n",
      "\u001b[90m 2\u001b[39m Streptococ…    0.015\u001b[4m9\u001b[24m     0.041\u001b[4m5\u001b[24m     0.041\u001b[4m4\u001b[24m     0.064\u001b[4m9\u001b[24m     0.019\u001b[4m6\u001b[24m     0.028\u001b[4m1\u001b[24m \n",
      "\u001b[90m 3\u001b[39m Streptococ…    0.008\u001b[4m9\u001b[24m\u001b[4m6\u001b[24m    0.021\u001b[4m4\u001b[24m     0.006\u001b[4m7\u001b[24m\u001b[4m2\u001b[24m    0.012\u001b[4m6\u001b[24m     0.013\u001b[4m9\u001b[24m     0.014\u001b[4m4\u001b[24m \n",
      "\u001b[90m 4\u001b[39m Streptococ…    0.003\u001b[4m2\u001b[24m\u001b[4m8\u001b[24m    0.008\u001b[4m8\u001b[24m     0.003\u001b[4m1\u001b[24m\u001b[4m7\u001b[24m    0.003\u001b[4m9\u001b[24m\u001b[4m1\u001b[24m    0.003\u001b[4m5\u001b[24m\u001b[4m3\u001b[24m    0.005\u001b[4m9\u001b[24m\u001b[4m6\u001b[24m\n",
      "\u001b[90m 5\u001b[39m Streptococ…    0.003      0.009\u001b[4m8\u001b[24m\u001b[4m5\u001b[24m    0.007\u001b[4m6\u001b[24m\u001b[4m8\u001b[24m    0.043\u001b[4m0\u001b[24m     0.006\u001b[4m3\u001b[24m\u001b[4m7\u001b[24m    0.005\u001b[4m3\u001b[24m\u001b[4m8\u001b[24m\n",
      "\u001b[90m 6\u001b[39m Streptococ…    0.003      0.011\u001b[4m3\u001b[24m     0.008\u001b[4m5\u001b[24m     0.044\u001b[4m5\u001b[24m     0.006\u001b[4m6\u001b[24m\u001b[4m1\u001b[24m    0.007\u001b[4m1\u001b[24m\u001b[4m6\u001b[24m\n",
      "\u001b[90m 7\u001b[39m Streptococ…    0.003\u001b[4m0\u001b[24m\u001b[4m9\u001b[24m    0.005\u001b[4m2\u001b[24m\u001b[4m4\u001b[24m    0.002\u001b[4m0\u001b[24m\u001b[4m4\u001b[24m    0.005\u001b[4m4\u001b[24m\u001b[4m4\u001b[24m    0.005\u001b[4m9\u001b[24m\u001b[4m3\u001b[24m    0.004\u001b[4m9\u001b[24m \n",
      "\u001b[90m 8\u001b[39m Streptococ…    0.002\u001b[4m7\u001b[24m     0.005\u001b[4m5\u001b[24m\u001b[4m6\u001b[24m    0.002\u001b[4m2\u001b[24m     0.005\u001b[4m4\u001b[24m\u001b[4m4\u001b[24m    0.005\u001b[4m1\u001b[24m\u001b[4m9\u001b[24m    0.005\u001b[4m0\u001b[24m\u001b[4m4\u001b[24m\n",
      "\u001b[90m 9\u001b[39m Streptococ…    0.001\u001b[4m1\u001b[24m\u001b[4m9\u001b[24m    0.003\u001b[4m3\u001b[24m\u001b[4m7\u001b[24m    0.002\u001b[4m3\u001b[24m\u001b[4m5\u001b[24m    0.002\u001b[4m4\u001b[24m     0.001\u001b[4m3\u001b[24m\u001b[4m2\u001b[24m    0.002\u001b[4m2\u001b[24m\u001b[4m4\u001b[24m\n",
      "\u001b[90m10\u001b[39m Streptococ…    0.000\u001b[4m6\u001b[24m\u001b[4m4\u001b[24m    0.001\u001b[4m2\u001b[24m\u001b[4m6\u001b[24m    0.000\u001b[4m7\u001b[24m\u001b[4m8\u001b[24m    0.001\u001b[4m7\u001b[24m\u001b[4m9\u001b[24m    0.000\u001b[4m8\u001b[24m\u001b[4m4\u001b[24m    0.001\u001b[4m0\u001b[24m\u001b[4m6\u001b[24m\n",
      "\u001b[90m# … with 6,118 more rows, and 141 more variables: ERR6913238 <dbl>,\u001b[39m\n",
      "\u001b[90m#   ERR6913239 <dbl>, ERR6913117 <dbl>, ERR6913118 <dbl>, ERR6913136 <dbl>,\u001b[39m\n",
      "\u001b[90m#   ERR6913232 <dbl>, ERR6913137 <dbl>, ERR6913233 <dbl>, ERR6913213 <dbl>,\u001b[39m\n",
      "\u001b[90m#   ERR6913214 <dbl>, ERR6913183 <dbl>, ERR6913185 <dbl>, ERR6913186 <dbl>,\u001b[39m\n",
      "\u001b[90m#   ERR6913279 <dbl>, ERR6913280 <dbl>, ERR6913281 <dbl>, ERR6913282 <dbl>,\u001b[39m\n",
      "\u001b[90m#   ERR6913184 <dbl>, ERR6913155 <dbl>, ERR6913251 <dbl>, ERR6913156 <dbl>,\u001b[39m\n",
      "\u001b[90m#   ERR6913252 <dbl>, ERR6913158 <dbl>, ERR6913254 <dbl>, ERR6913159 <dbl>, …\u001b[39m\n"
     ]
    }
   ],
   "source": [
    "abun_wide <- db %>%  pivot_wider(id_cols = taxon_name, names_from = run_accession, values_from = fraction_total_reads)\n",
    "print(abun_wide)"
   ]
  },
  {
   "cell_type": "code",
   "execution_count": 51,
   "id": "18c6024d-711b-4e32-9e18-185a3310591e",
   "metadata": {},
   "outputs": [
    {
     "data": {
      "text/html": [
       "'list'"
      ],
      "text/latex": [
       "'list'"
      ],
      "text/markdown": [
       "'list'"
      ],
      "text/plain": [
       "[1] \"list\""
      ]
     },
     "metadata": {},
     "output_type": "display_data"
    }
   ],
   "source": [
    "typeof(abun_wide)"
   ]
  },
  {
   "cell_type": "code",
   "execution_count": null,
   "id": "c25dda46-80d5-412c-9254-1ade60d3bdf5",
   "metadata": {},
   "outputs": [],
   "source": []
  }
 ],
 "metadata": {
  "kernelspec": {
   "display_name": "R 4.0.3",
   "language": "R",
   "name": "r-4.0.3"
  },
  "language_info": {
   "codemirror_mode": "r",
   "file_extension": ".r",
   "mimetype": "text/x-r-source",
   "name": "R",
   "pygments_lexer": "r",
   "version": "4.0.3"
  }
 },
 "nbformat": 4,
 "nbformat_minor": 5
}
